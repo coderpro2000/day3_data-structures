{
 "cells": [
  {
   "cell_type": "code",
   "execution_count": null,
   "metadata": {},
   "outputs": [],
   "source": [
    "what is algorithms\n",
    "it is means set of rules to be followed in calculations or other solving operations.\n",
    "\n",
    "characteristics of algorithms\n",
    "1. well defined\n",
    "2. well defined outputs\n",
    "3. clear and unambigious\n",
    "4. finiteness\n",
    "5. feasible\n",
    "\n",
    "\n",
    "advantages of algorithms:\n",
    "1. It is easy to understand.\n",
    "2. It is a step wise representation of a solution to a given problem.\n",
    "3.larger problem convert into small parts.\n",
    "\n",
    "Disadvantages:\n",
    "1. It takes long times\n",
    "2. branching and looping statements are difficult to show in algorithms.\n",
    "\n",
    "two types of algoritms complexity:\n",
    "    space complexity: it refer to the amount of memory that this algorithms requires to executes and get the results.\n",
    "        \n",
    "how to calculate space complexity;\n",
    "1.fixed part-- this refer to the space that is definetely required by the algorithms for ex-- input variables, output variables\n",
    "2.variable parts - this refer to the space to the that can be different based on implementatrion of algorithms. for ex-- temporary\n",
    "variables , dynamic memory allocation\n",
    "\n",
    "Time complexity\n",
    "It refer to the amount of times that requires to get the results.\n",
    "it is divided by two parts \n",
    "1. constant time part-- any instruction that is executed jusst once in this in part  . for ex-- input output , if else\n",
    "2. variables part -- any instruction that is executed more than once says n times. for examples-- loops and recursion.\n",
    "\n",
    "Analysis  of algorithms:\n",
    "    the main idea of ansympootic analysis is have a measure of thye efficiency of algorithms  that don't depend  on machine \n",
    "    three types of notation : \n",
    "        1. theta notation: it bounds a function from above and below  so it definews asympotic notation\n",
    "        2. big o notation: it defines upper bound of an algorithms it bound only a function only from above \n",
    "        3. omega notation: it can be useful in when we have  lower bound on time complexity of an algorithms.\n",
    "            \n",
    "            \n",
    "how to calculate algothms complexity:\n",
    "    import array\n",
    "    a=array.array[1,,2]\n",
    "    temp=a[0]\n",
    "    for i in a:\n",
    "        if(temp<a[1]):\n",
    "            temp=a[i]\n",
    "        print()\n",
    "insert a variable---------o(1)\n",
    "loop from staart to end ----o(n)\n",
    "comparision-----------------o(1)\n",
    "swap------------------------o(1)\n",
    "return----------------------o(1)\n",
    "time value is o(n)+o(1)~o(n)"
   ]
  },
  {
   "cell_type": "code",
   "execution_count": 1,
   "metadata": {},
   "outputs": [
    {
     "name": "stdout",
     "output_type": "stream",
     "text": [
      "enter the number5\n",
      "120\n",
      "2.71 µs ± 76.7 ns per loop (mean ± std. dev. of 7 runs, 100000 loops each)\n"
     ]
    }
   ],
   "source": [
    "#pratical implementation of time complexity\n",
    "def factorial(n):\n",
    "    if n<=1:\n",
    "        return 1\n",
    "    else:\n",
    "        n=n*factorial(n-1)\n",
    "        return n\n",
    "n=int(input(\"enter the number\"))\n",
    "print(factorial(n))\n",
    "%timeit factorial(10)"
   ]
  },
  {
   "cell_type": "code",
   "execution_count": null,
   "metadata": {},
   "outputs": [],
   "source": [
    "#it means  2 micro second (plus\\minus 76 nanosecond per loop)  that is it is big o notation"
   ]
  }
 ],
 "metadata": {
  "kernelspec": {
   "display_name": "Python 3",
   "language": "python",
   "name": "python3"
  },
  "language_info": {
   "codemirror_mode": {
    "name": "ipython",
    "version": 3
   },
   "file_extension": ".py",
   "mimetype": "text/x-python",
   "name": "python",
   "nbconvert_exporter": "python",
   "pygments_lexer": "ipython3",
   "version": "3.7.6"
  }
 },
 "nbformat": 4,
 "nbformat_minor": 4
}
